{
 "cells": [
  {
   "cell_type": "markdown",
   "id": "c1b017a1",
   "metadata": {
    "tags": []
   },
   "source": [
    "# Assessment - 1 Gradable\n",
    "\n",
    "- Each question carries 5 marks\n",
    "- Marks will be assigned in terms of:\n",
    "    \n",
    "    **1. Expected output**\n",
    "    \n",
    "    **2. Quality and Explainability of code**\n",
    "\n",
    "    ***Go back through the script and type a comment above each line explaining in English what it does.***\n",
    "\n",
    "    **3. Copied code, if found, will result in 0 marks for that question. To avoid this make as much comments in the code to explain the approach**"
   ]
  },
  {
   "cell_type": "markdown",
   "id": "f7ffcccd",
   "metadata": {},
   "source": [
    "### 1. \n",
    "\n",
    "Go through the string below and if the length of a word is even print \"even!\"\n",
    "\n",
    "sting = 'I know how to print every word in this sentence that has an even number of letters'\n"
   ]
  },
  {
   "cell_type": "code",
   "execution_count": 1,
   "id": "117374b1",
   "metadata": {},
   "outputs": [
    {
     "name": "stdout",
     "output_type": "stream",
     "text": [
      "['I', 'know', 'how', 'to', 'print', 'every', 'word', 'in', 'this', 'sentence', 'that', 'has', 'an', 'even', 'number', 'of', 'letters']\n",
      "even\n"
     ]
    }
   ],
   "source": [
    "sting= 'I know how to print every word in this sentence that has an even number of letters'\n",
    "x=sting.split()      # split the string each word\n",
    "print (x)\n",
    "if(len(sting)%2==0):    # condition check to even\n",
    "        print('even')\n",
    "        "
   ]
  },
  {
   "cell_type": "code",
   "execution_count": null,
   "id": "eafe8d3a",
   "metadata": {},
   "outputs": [],
   "source": []
  },
  {
   "cell_type": "markdown",
   "id": "f9e2a7de",
   "metadata": {},
   "source": [
    "### 2. \n",
    "\n",
    "Write a function ``clap_tap`` that prints the integers from 1 to 100. But for multiples of three print \"Clap\" instead of the number, and for the multiples of five print \"Tap\". For numbers which are multiples of both three and five print \"ClapTap\"."
   ]
  },
  {
   "cell_type": "code",
   "execution_count": 2,
   "id": "50548ffa",
   "metadata": {},
   "outputs": [],
   "source": [
    "seq=range(0,101)       # take the range 0,101\n",
    "def clap_tap(seq):     # define the function\n",
    "    if (seq%3==0):             # use function with condition statement\n",
    "        return 'clap'\n",
    "    elif(seq%5==0):       \n",
    "        return'tap'\n",
    "    elif(seq%3==0) and (seq%5==0):  # but in last elif condition is not going to exicute so use first\n",
    "        return 'claptap'"
   ]
  },
  {
   "cell_type": "code",
   "execution_count": 3,
   "id": "40489d09",
   "metadata": {},
   "outputs": [
    {
     "data": {
      "text/plain": [
       "'clap'"
      ]
     },
     "execution_count": 3,
     "metadata": {},
     "output_type": "execute_result"
    }
   ],
   "source": [
    "clap_tap(45)"
   ]
  },
  {
   "cell_type": "code",
   "execution_count": 4,
   "id": "9edb5af0",
   "metadata": {},
   "outputs": [],
   "source": [
    "seq=range(0,101)       # take the range 0,101\n",
    "def clap_tap(seq):\n",
    "    if (seq%3==0) and (seq%5==0):     # use first condition and\n",
    "        return'claptap'\n",
    "    elif(seq%3==0):\n",
    "        return 'clap'\n",
    "    elif(seq%5==0):\n",
    "        return'tap'"
   ]
  },
  {
   "cell_type": "code",
   "execution_count": 5,
   "id": "d0fa6939",
   "metadata": {},
   "outputs": [
    {
     "data": {
      "text/plain": [
       "'claptap'"
      ]
     },
     "execution_count": 5,
     "metadata": {},
     "output_type": "execute_result"
    }
   ],
   "source": [
    "clap_tap(45)"
   ]
  },
  {
   "cell_type": "markdown",
   "id": "2ecff2c9",
   "metadata": {},
   "source": [
    "### 3. \n",
    "\n",
    "ANIMAL CRACKERS: Write a function takes a two-word string and returns True if both words begin with same letter and returns True if both words begin with same letter\n",
    "- animal_crackers('Levelheaded Lion') --> True\n",
    "- animal_crackers('Cute Kangaroo') --> False"
   ]
  },
  {
   "cell_type": "code",
   "execution_count": 6,
   "id": "4900f11f",
   "metadata": {},
   "outputs": [],
   "source": [
    "def animal_crackers(tupl):         # define the function\n",
    "    tupl1,tupl2=tupl.split(' ')        # create 2 string\n",
    "    print(tupl1[0].lower() ==tupl2[0].lower())    # use lower.for case insensitive \n"
   ]
  },
  {
   "cell_type": "code",
   "execution_count": 7,
   "id": "f5e55c00",
   "metadata": {},
   "outputs": [
    {
     "name": "stdout",
     "output_type": "stream",
     "text": [
      "True\n",
      "\n",
      "False\n"
     ]
    }
   ],
   "source": [
    "animal_crackers('Levelheaded Lion')\n",
    "print()\n",
    "animal_crackers('Cute Kangaroo')"
   ]
  },
  {
   "cell_type": "code",
   "execution_count": null,
   "id": "8106fc5a",
   "metadata": {},
   "outputs": [],
   "source": []
  },
  {
   "cell_type": "markdown",
   "id": "8da4c022",
   "metadata": {
    "tags": []
   },
   "source": [
    "### 4. \n",
    "\n",
    "Create a function ``lets_find_88`` Given a list of ints, return True if the array contains a 8 next to a 8 somewhere.\n",
    "- lets_find_88([1, 8, 8]) → True\n",
    "- lets_find_88([1, 8, 1, 8]) → False\n",
    "- lets_find_88([8, 1, 8]) → False"
   ]
  },
  {
   "cell_type": "code",
   "execution_count": 3,
   "id": "e5e8e41f",
   "metadata": {},
   "outputs": [],
   "source": [
    "def lets_find_88(list):  # define function use for condition to x==8 and x+1=8\n",
    "    for x in list:\n",
    "        if (list[x]==8) and (list[x+1]==8):   # so return conatain true if 8 next to a 8\n",
    "            return True\n",
    "        else:\n",
    "            return False\n",
    "    "
   ]
  },
  {
   "cell_type": "code",
   "execution_count": 4,
   "id": "ff60fd7b",
   "metadata": {},
   "outputs": [
    {
     "data": {
      "text/plain": [
       "True"
      ]
     },
     "execution_count": 4,
     "metadata": {},
     "output_type": "execute_result"
    }
   ],
   "source": [
    "lets_find_88([1, 8, 8])"
   ]
  },
  {
   "cell_type": "code",
   "execution_count": null,
   "id": "dd44c58a",
   "metadata": {},
   "outputs": [],
   "source": []
  },
  {
   "cell_type": "code",
   "execution_count": 5,
   "id": "3b7edb38",
   "metadata": {},
   "outputs": [
    {
     "data": {
      "text/plain": [
       "False"
      ]
     },
     "execution_count": 5,
     "metadata": {},
     "output_type": "execute_result"
    }
   ],
   "source": [
    "lets_find_88([1, 8, 1, 8])"
   ]
  },
  {
   "cell_type": "markdown",
   "id": "b2fc1a23",
   "metadata": {},
   "source": [
    "### 5.  Create a function ``shout_out`` Given a string, return a string where:\n",
    "- \n",
    "### for every character in the original there are three characters\n",
    "    - shout_out('character') --> 'ccchhhaaarrraaacccttteeerrr'\n",
    "    - shout_out('original') --> 'ooorrriiigggiiinnnaaalll'"
   ]
  },
  {
   "cell_type": "code",
   "execution_count": 14,
   "id": "640e0283",
   "metadata": {},
   "outputs": [],
   "source": [
    "def shout_out(string):   # define funtion \n",
    "    result=''            # when use 0 here cant pluse int and string -use empty string\n",
    "    for x in string:\n",
    "        result=result+x*3     # multiply x three time and return result\n",
    "    return result"
   ]
  },
  {
   "cell_type": "code",
   "execution_count": 15,
   "id": "2d39fbd1",
   "metadata": {},
   "outputs": [
    {
     "data": {
      "text/plain": [
       "'ccchhhaaarrraaacccttteeerrr'"
      ]
     },
     "execution_count": 15,
     "metadata": {},
     "output_type": "execute_result"
    }
   ],
   "source": [
    "shout_out('character')"
   ]
  },
  {
   "cell_type": "code",
   "execution_count": 16,
   "id": "1fa15acf",
   "metadata": {},
   "outputs": [
    {
     "data": {
      "text/plain": [
       "'ooorrriiigggiiinnnaaalll'"
      ]
     },
     "execution_count": 16,
     "metadata": {},
     "output_type": "execute_result"
    }
   ],
   "source": [
    "shout_out('original')"
   ]
  },
  {
   "cell_type": "markdown",
   "id": "be5e0b5c",
   "metadata": {},
   "source": [
    "### 6. Write a function ``how_many_primes`` that returns the number of prime numbers that exist up to and including a given number\n",
    "- how_many_primes(100) --> 25"
   ]
  },
  {
   "cell_type": "code",
   "execution_count": 17,
   "id": "e285e60a",
   "metadata": {},
   "outputs": [],
   "source": [
    "def how_many_primes(number):   # define fuction\n",
    "    key=0\n",
    "    for i in range(2,number+1):\n",
    "        prime=True\n",
    "        for x in range (2,i):\n",
    "            if (i%x==0):\n",
    "                prime=False     # stop looping once get divisor ,use break \n",
    "                break\n",
    "        if prime:\n",
    "            key+=1\n",
    "    return key\n",
    "    "
   ]
  },
  {
   "cell_type": "code",
   "execution_count": 18,
   "id": "94c51773",
   "metadata": {},
   "outputs": [
    {
     "data": {
      "text/plain": [
       "25"
      ]
     },
     "execution_count": 18,
     "metadata": {},
     "output_type": "execute_result"
    }
   ],
   "source": [
    "how_many_primes(100)"
   ]
  },
  {
   "cell_type": "markdown",
   "id": "e571999e",
   "metadata": {},
   "source": [
    "### 7. \n",
    "\n",
    "Write a Python function that prints out the first n rows of Pascal's triangle.\n",
    "\n",
    "- Input : 5\n",
    "- Output: \n",
    "          1\n",
    "         1 1\n",
    "        1 2 1\n",
    "       1 3 3 1\n",
    "      1 4 6 4 1\n",
    "\n",
    "**Very interesting video on PASCAL TRIANGLE (must watch if you are interested to know more about pascal Triangle)**\n",
    "- https://www.youtube.com/watch?v=0iMtlus-afo&t=668s&ab_channel=Numberphile"
   ]
  },
  {
   "cell_type": "code",
   "execution_count": 2,
   "id": "daea4450",
   "metadata": {},
   "outputs": [
    {
     "name": "stdout",
     "output_type": "stream",
     "text": [
      "     1\n",
      "    1 1\n",
      "   1 2 1\n",
      "  1 3 3 1\n",
      " 1 4 6 4 1\n"
     ]
    }
   ],
   "source": [
    "n= 5                          # power of the number 11 as per pascal triangle pattern \n",
    "  \n",
    "for i in range(n):                       \n",
    "    print(' '*(n-i), end='')                   #11*0=1, 11*1=11, 11*3=121..... \n",
    "\n",
    "    print(' '.join(map(str, str(11**i))))"
   ]
  },
  {
   "cell_type": "code",
   "execution_count": null,
   "id": "a06bd734",
   "metadata": {},
   "outputs": [],
   "source": []
  },
  {
   "cell_type": "markdown",
   "id": "bc7a6959",
   "metadata": {},
   "source": [
    "### 8. \n",
    "\n",
    "Write a function to print following pattern\n",
    "\n",
    "    1  \n",
    "    2  4  \n",
    "    3  6  9  \n",
    "    4  8  12  16  \n",
    "    5  10  15  20  25  \n",
    "    6  12  18  24  30  36  \n",
    "    7  14  21  28  35  42  49  \n",
    "    8  16  24  32  40  48  56  64  "
   ]
  },
  {
   "cell_type": "code",
   "execution_count": 25,
   "id": "19a12739",
   "metadata": {},
   "outputs": [
    {
     "name": "stdout",
     "output_type": "stream",
     "text": [
      "1  \n",
      "2  4  \n",
      "3  6  9  \n",
      "4  8  12  16  \n",
      "5  10  15  20  25  \n",
      "6  12  18  24  30  36  \n",
      "7  14  21  28  35  42  49  \n",
      "8  16  24  32  40  48  56  64  \n"
     ]
    }
   ],
   "source": [
    "n = 8                                          # start with 1, we print in left triangle so use n+1\n",
    "for i in range(1, n+1):                      # write required numbers of line\n",
    "    for x in range(i,i ** 2 + 1,i):           # print values in columns using (start, stop, step)\n",
    "        print (x, end = \"  \")\n",
    "    print( )                              # close with print() to stop for as required"
   ]
  },
  {
   "cell_type": "code",
   "execution_count": null,
   "id": "17c89e6e",
   "metadata": {},
   "outputs": [],
   "source": []
  },
  {
   "cell_type": "markdown",
   "id": "64bf1428",
   "metadata": {},
   "source": [
    "### 9. \n",
    "\n",
    "Write a function to print following pattern\n"
   ]
  },
  {
   "cell_type": "raw",
   "id": "e9cb27da",
   "metadata": {},
   "source": [
    "* * * * * \n",
    " * * * * \n",
    "  * * * \n",
    "   * * \n",
    "    * \n",
    "    * \n",
    "   * * \n",
    "  * * * \n",
    " * * * * \n",
    "* * * * * "
   ]
  },
  {
   "cell_type": "code",
   "execution_count": 26,
   "id": "84f554aa",
   "metadata": {},
   "outputs": [
    {
     "name": "stdout",
     "output_type": "stream",
     "text": [
      "   *   *   *   *   *  \n",
      "     *   *   *   *  \n",
      "       *   *   *  \n",
      "         *   *  \n",
      "           *  \n",
      "           *  \n",
      "         *   *  \n",
      "       *   *   *  \n",
      "     *   *   *   *  \n",
      "   *   *   *   *   *  \n"
     ]
    }
   ],
   "source": [
    "n=5                                       # use nested loop n=5, here 2 triangle apposite direction so first exicute 1 to 5\n",
    "                                           # then apposite \n",
    "for i in range(n):\n",
    "    for j in range(i+1):                  # first increasing triangle from range i + 1 to range i\n",
    "        print(' ', end = ' ')\n",
    "    for j in range(n-i):                  # space as per requred\n",
    "        print(' * ', end = ' ')\n",
    "    print()\n",
    "for i in range(n):\n",
    "    for j in range(n-i):                 # change same in reverse  \n",
    "        print(' ', end = ' ')\n",
    "    for j in range(i+1):\n",
    "        print(' * ', end = ' ')      \n",
    "    print()                               # use print() before existing loop"
   ]
  },
  {
   "cell_type": "code",
   "execution_count": null,
   "id": "b9136dd8",
   "metadata": {},
   "outputs": [],
   "source": []
  },
  {
   "cell_type": "markdown",
   "id": "7198d01f",
   "metadata": {},
   "source": [
    "### 10. \n",
    "\n",
    "Grab ``StarAgile`` from the following Dictionaries\n",
    "\n",
    "d_difficult = {'k1':[{'nest_key':['this is deep',['StarAgile']]}]}\n",
    "\n",
    "d_irritating = {'k1':[1,2,{'k2':['this is not easy',{'VeryIrriating':[1,2,['StarAgile']]}]}]}"
   ]
  },
  {
   "cell_type": "code",
   "execution_count": 28,
   "id": "30068222",
   "metadata": {},
   "outputs": [],
   "source": [
    "d_difficult = {'k1':[{'nest_key':['this is deep',['StarAgile']]}]}\n",
    "\n",
    "d_irritating = {'k1':[1,2,{'k2':['this is not easy',{'VeryIrriating':[1,2,['StarAgile']]}]}]}"
   ]
  },
  {
   "cell_type": "code",
   "execution_count": 29,
   "id": "1c6a7bf6",
   "metadata": {},
   "outputs": [
    {
     "data": {
      "text/plain": [
       "'StarAgile'"
      ]
     },
     "execution_count": 29,
     "metadata": {},
     "output_type": "execute_result"
    }
   ],
   "source": [
    "d_difficult['k1'][0]['nest_key'][1][0]       # use  indexing -to sliceing\n"
   ]
  },
  {
   "cell_type": "code",
   "execution_count": 30,
   "id": "f0627b96",
   "metadata": {},
   "outputs": [
    {
     "data": {
      "text/plain": [
       "'StarAgile'"
      ]
     },
     "execution_count": 30,
     "metadata": {},
     "output_type": "execute_result"
    }
   ],
   "source": [
    "d_irritating['k1'][2]['k2'][1]['VeryIrriating'][2][0]"
   ]
  },
  {
   "cell_type": "markdown",
   "id": "39ab22b2",
   "metadata": {},
   "source": [
    "### 11. \n",
    "\n",
    "Create a function ``ignore_6_to_9`` that returns the sum of the numbers in the array, except ignore sections of numbers starting with a 6 and extending to the next 9 (every 6 will be followed by at least one 9). Return 0 for no numbers.\n",
    " \n",
    "- ignore_6_to_9([1, 3, 5]) --> 9\n",
    "- ignore_6_to_9([4, 5, 6, 7, 8, 9]) --> 9\n",
    "- ignore_6_to_9([2, 1, 6, 9, 11]) --> 14"
   ]
  },
  {
   "cell_type": "code",
   "execution_count": 7,
   "id": "8bfab577",
   "metadata": {},
   "outputs": [],
   "source": [
    "def ignore_6_to_9(arr):            # define function\n",
    "    total = 0              #     of numbers starting with a 6 and extending to the next 9                              \n",
    "    add = True\n",
    "    for num in arr:           \n",
    "        while add:\n",
    "            if num != 6:                    #every 6 will be followed by at least one 9\n",
    "                total += num\n",
    "                break\n",
    "            else:\n",
    "                add = False\n",
    "        while not add:\n",
    "            if num != 9:\n",
    "                break\n",
    "            else:\n",
    "                add = True\n",
    "                break\n",
    "    return total                               # Return 0 for no numbers, total=0\n",
    "    "
   ]
  },
  {
   "cell_type": "code",
   "execution_count": 8,
   "id": "2f401b4d",
   "metadata": {},
   "outputs": [
    {
     "data": {
      "text/plain": [
       "9"
      ]
     },
     "execution_count": 8,
     "metadata": {},
     "output_type": "execute_result"
    }
   ],
   "source": [
    "ignore_6_to_9([1, 3, 5])"
   ]
  },
  {
   "cell_type": "code",
   "execution_count": 9,
   "id": "f3b2d8bb",
   "metadata": {},
   "outputs": [
    {
     "data": {
      "text/plain": [
       "9"
      ]
     },
     "execution_count": 9,
     "metadata": {},
     "output_type": "execute_result"
    }
   ],
   "source": [
    "ignore_6_to_9([4, 5, 6, 7, 8, 9])"
   ]
  },
  {
   "cell_type": "code",
   "execution_count": 10,
   "id": "f956ea57",
   "metadata": {},
   "outputs": [
    {
     "data": {
      "text/plain": [
       "14"
      ]
     },
     "execution_count": 10,
     "metadata": {},
     "output_type": "execute_result"
    }
   ],
   "source": [
    "ignore_6_to_9([2, 1, 6, 9, 11])"
   ]
  },
  {
   "cell_type": "markdown",
   "id": "84b95ad5",
   "metadata": {},
   "source": [
    "## All the best :)"
   ]
  }
 ],
 "metadata": {
  "kernelspec": {
   "display_name": "Python 3 (ipykernel)",
   "language": "python",
   "name": "python3"
  },
  "language_info": {
   "codemirror_mode": {
    "name": "ipython",
    "version": 3
   },
   "file_extension": ".py",
   "mimetype": "text/x-python",
   "name": "python",
   "nbconvert_exporter": "python",
   "pygments_lexer": "ipython3",
   "version": "3.9.7"
  }
 },
 "nbformat": 4,
 "nbformat_minor": 5
}
